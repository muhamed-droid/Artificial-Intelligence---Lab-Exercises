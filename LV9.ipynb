{
  "nbformat": 4,
  "nbformat_minor": 0,
  "metadata": {
    "colab": {
      "provenance": [],
      "toc_visible": true,
      "authorship_tag": "ABX9TyONFnUQn4oHKeKDtDM9y2CZ",
      "include_colab_link": true
    },
    "kernelspec": {
      "name": "python3",
      "display_name": "Python 3"
    },
    "language_info": {
      "name": "python"
    }
  },
  "cells": [
    {
      "cell_type": "markdown",
      "metadata": {
        "id": "view-in-github",
        "colab_type": "text"
      },
      "source": [
        "<a href=\"https://colab.research.google.com/github/muhamed-droid/Artificial-Intelligence---Lab-Exercises/blob/LV9/LV9.ipynb\" target=\"_parent\"><img src=\"https://colab.research.google.com/assets/colab-badge.svg\" alt=\"Open In Colab\"/></a>"
      ]
    },
    {
      "cell_type": "code",
      "execution_count": 7,
      "metadata": {
        "id": "6Pvn-xY68J5z",
        "colab": {
          "base_uri": "https://localhost:8080/",
          "height": 423
        },
        "outputId": "6f08fca5-f71b-4f23-d026-23b7f1a21fa0"
      },
      "outputs": [
        {
          "output_type": "stream",
          "name": "stdout",
          "text": [
            "/bin/bash: -c: line 0: syntax error near unexpected token `-m'\n",
            "/bin/bash: -c: line 0: `(sys.executable) -m pip install pyeasyga'\n"
          ]
        },
        {
          "output_type": "error",
          "ename": "ModuleNotFoundError",
          "evalue": "ignored",
          "traceback": [
            "\u001b[0;31m---------------------------------------------------------------------------\u001b[0m",
            "\u001b[0;31mModuleNotFoundError\u001b[0m                       Traceback (most recent call last)",
            "\u001b[0;32m<ipython-input-7-8d004551faac>\u001b[0m in \u001b[0;36m<cell line: 3>\u001b[0;34m()\u001b[0m\n\u001b[1;32m      1\u001b[0m \u001b[0;32mimport\u001b[0m \u001b[0msys\u001b[0m\u001b[0;34m\u001b[0m\u001b[0;34m\u001b[0m\u001b[0m\n\u001b[1;32m      2\u001b[0m \u001b[0mget_ipython\u001b[0m\u001b[0;34m(\u001b[0m\u001b[0;34m)\u001b[0m\u001b[0;34m.\u001b[0m\u001b[0msystem\u001b[0m\u001b[0;34m(\u001b[0m\u001b[0;34m'(sys.executable) -m pip install pyeasyga'\u001b[0m\u001b[0;34m)\u001b[0m\u001b[0;34m\u001b[0m\u001b[0;34m\u001b[0m\u001b[0m\n\u001b[0;32m----> 3\u001b[0;31m \u001b[0;32mfrom\u001b[0m \u001b[0mpyeasyga\u001b[0m\u001b[0;34m.\u001b[0m\u001b[0mpyeasyga\u001b[0m \u001b[0;32mimport\u001b[0m \u001b[0mGeneticAlgorithm\u001b[0m\u001b[0;34m\u001b[0m\u001b[0;34m\u001b[0m\u001b[0m\n\u001b[0m\u001b[1;32m      4\u001b[0m \u001b[0;32mimport\u001b[0m \u001b[0mrandom\u001b[0m\u001b[0;34m\u001b[0m\u001b[0;34m\u001b[0m\u001b[0m\n\u001b[1;32m      5\u001b[0m \u001b[0;32mimport\u001b[0m \u001b[0mnumpy\u001b[0m \u001b[0;32mas\u001b[0m \u001b[0mnp\u001b[0m\u001b[0;34m\u001b[0m\u001b[0;34m\u001b[0m\u001b[0m\n",
            "\u001b[0;31mModuleNotFoundError\u001b[0m: No module named 'pyeasyga'",
            "",
            "\u001b[0;31m---------------------------------------------------------------------------\u001b[0;32m\nNOTE: If your import is failing due to a missing package, you can\nmanually install dependencies using either !pip or !apt.\n\nTo view examples of installing some common dependencies, click the\n\"Open Examples\" button below.\n\u001b[0;31m---------------------------------------------------------------------------\u001b[0m\n"
          ],
          "errorDetails": {
            "actions": [
              {
                "action": "open_url",
                "actionText": "Open Examples",
                "url": "/notebooks/snippets/importing_libraries.ipynb"
              }
            ]
          }
        }
      ],
      "source": [
        "import sys\n",
        "!(sys.executable) -m pip install pyeasyga\n",
        "from pyeasyga.pyeasyga import GeneticAlgorithm\n",
        "import random\n",
        "import numpy as np\n",
        "\n",
        "\n",
        "def criteria_function(x):\n",
        "  x1 = x[0]\n",
        "  x2 = x[1]\n",
        "  return (-1 - np.cos(12*np.sqrt(x1**2 + x2**2))) / (0.5*(x1**2 + x2**2) + 2)\n",
        "\n",
        "RANGE = np.array ([[-5,5], [-5,5]])\n",
        "\n",
        "ga = GeneticAlgorithm (seed_data = criteria_function,\n",
        "                       population_size = 30,\n",
        "                       generations = 200,\n",
        "                       crossover_probability = 0.8,\n",
        "                       mutatition_probability = 0.02,\n",
        "                       elitism = True,\n",
        "                       maximise_fitness = False)\n",
        "\n",
        "BINARY_CHROMOSOME_LENGTH = 26\n",
        "\n",
        "def create_individual(data):\n",
        "    return [random.randint(0, 1) for _ in range(BINARY_CHROMOSOME_LENGTH)]\n",
        "\n",
        "ga.create_individual = create_individual\n",
        "\n",
        "def crossover(parent_1, parent_2):\n",
        "  crossover_index1 = random.randrange(1, len(parent_1)-1)\n",
        "  crossover_index2 = random.randrange(crossover_index1+1, len(parent_1))\n",
        "  child_1 = parent_1[:crossover_index1] + parent_2[crossover_index1:crossover_index2] + parent_1[crossover_index2:]\n",
        "  child_2 = parent_2[:crossover_index1] + parent_1[crossover_index1:crossover_index2] + parent_2[crossover_index2:]\n",
        "  return child_1, child_2\n",
        "\n",
        "ga.crossover_function = crossover\n",
        "\n",
        "\n",
        "def mutate(individual):\n",
        "  mutate_index = random.randrange(len(individual))\n",
        "  if individual[mutate_index] == 0:\n",
        "    individual[mutate_index] = 1\n",
        "  else:\n",
        "    individual[mutate_index] = 0\n",
        "\n",
        "ga.mutate_function = mutate\n",
        "\n",
        "ga.tournament_size = 2\n",
        "\n",
        "def decimal(binary):\n",
        "  sum = 0\n",
        "  for i in range (0, len(binary)):\n",
        "      sum += binary[len(binary)-1-i]*2**(i)\n",
        "  return sum\n",
        "\n",
        "def decode (individual):\n",
        "  x_binary = individual[:BINARY_CHROMOSOME_LENGTH // 2]\n",
        "  y_binary = individual[BINARY_CHROMOSOME_LENGTH // 2:]\n",
        "  x_range = RANGE[0]\n",
        "  y_range = RANGE[1]\n",
        "  x_min = x_range[0]\n",
        "  x_max = x_range[1]\n",
        "  y_min = y_range[0]\n",
        "  y_max = y_range[1]\n",
        "  x_decode = x_min + ((x_max- x_min) * decimal(x_binary))/(2**(len(x_binary)) - 1)\n",
        "  y_decode = y_min + ((y_max- y_min) * decimal(y_binary))/(2**(len(y_binary)) - 1)\n",
        "\n",
        "def is_in_range(x,range_x):\n",
        "  return x>= range_x[0] and x<=range_x[1]\n",
        "\n",
        "def fitness (individual, data):\n",
        "  x_decode, y_decode = decode(individual)\n",
        "  while not (is_in_range(x_decode, RANGE[0]) and is_in_range(y_decode, RANGE[1])):\n",
        "      individual = create_individual(data)\n",
        "      x_decode, y_decode = decode (individual)\n",
        "  fitness = data([x_decode, y_decode])\n",
        "  return fitness\n",
        "\n",
        "ga.fitness_function = fitness\n",
        "\n",
        "ga.run()\n",
        "\n",
        "print(\"Best individual fitness and best individual binary chromosome:\")\n",
        "print(ga.best_individual())\n",
        "\n",
        "print(\"Best individual decoded:\")\n",
        "print(decode(ga.best_individual()[1]))\n",
        "\n",
        "print(\"Best individual function value:\")\n",
        "print(criteria_function(decode(ga.best_individual()[1])))\n",
        "\n",
        "print(\"\\n---------------------------\\n\")\n",
        "\n",
        "print(\"Last generation:\")\n",
        "for individual in ga.last_generation():\n",
        "  print(individual)"
      ]
    },
    {
      "cell_type": "code",
      "source": [],
      "metadata": {
        "id": "svrQ5ArjXE2b"
      },
      "execution_count": null,
      "outputs": []
    }
  ]
}