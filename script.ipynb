{
  "nbformat": 4,
  "nbformat_minor": 0,
  "metadata": {
    "colab": {
      "provenance": [],
      "authorship_tag": "ABX9TyMOYr0wEHSTkRkTSUA0AoeC",
      "include_colab_link": true
    },
    "kernelspec": {
      "name": "python3",
      "display_name": "Python 3"
    },
    "language_info": {
      "name": "python"
    }
  },
  "cells": [
    {
      "cell_type": "markdown",
      "metadata": {
        "id": "view-in-github",
        "colab_type": "text"
      },
      "source": [
        "<a href=\"https://colab.research.google.com/github/muhamed-droid/Artificial-Intelligence---Lab-Exercises/blob/LV3/script.ipynb\" target=\"_parent\"><img src=\"https://colab.research.google.com/assets/colab-badge.svg\" alt=\"Open In Colab\"/></a>"
      ]
    },
    {
      "cell_type": "code",
      "execution_count": 12,
      "metadata": {
        "colab": {
          "base_uri": "https://localhost:8080/"
        },
        "id": "rA_MikG4zPoc",
        "outputId": "f3b7a06c-01d2-4156-e97e-28e05077fd84"
      },
      "outputs": [
        {
          "output_type": "stream",
          "name": "stdout",
          "text": [
            "Epoch 1/20\n",
            "260/260 [==============================] - 1s 3ms/step - loss: 0.5812 - accuracy: 0.8386 - val_loss: 0.2797 - val_accuracy: 0.9279\n",
            "Epoch 2/20\n",
            "260/260 [==============================] - 0s 1ms/step - loss: 0.2281 - accuracy: 0.9293 - val_loss: 0.1174 - val_accuracy: 0.9673\n",
            "Epoch 3/20\n",
            "260/260 [==============================] - 0s 1ms/step - loss: 0.1200 - accuracy: 0.9699 - val_loss: 0.0738 - val_accuracy: 0.9846\n",
            "Epoch 4/20\n",
            "260/260 [==============================] - 0s 1ms/step - loss: 0.0843 - accuracy: 0.9805 - val_loss: 0.0581 - val_accuracy: 0.9904\n",
            "Epoch 5/20\n",
            "260/260 [==============================] - 0s 1ms/step - loss: 0.0675 - accuracy: 0.9846 - val_loss: 0.0514 - val_accuracy: 0.9942\n",
            "Epoch 6/20\n",
            "260/260 [==============================] - 0s 1ms/step - loss: 0.0589 - accuracy: 0.9880 - val_loss: 0.0458 - val_accuracy: 0.9952\n",
            "Epoch 7/20\n",
            "260/260 [==============================] - 0s 1ms/step - loss: 0.0584 - accuracy: 0.9885 - val_loss: 0.0446 - val_accuracy: 0.9942\n",
            "Epoch 8/20\n",
            "260/260 [==============================] - 0s 1ms/step - loss: 0.0527 - accuracy: 0.9897 - val_loss: 0.0440 - val_accuracy: 0.9962\n",
            "Epoch 9/20\n",
            "260/260 [==============================] - 0s 1ms/step - loss: 0.0495 - accuracy: 0.9921 - val_loss: 0.0542 - val_accuracy: 0.9962\n",
            "Epoch 10/20\n",
            "260/260 [==============================] - 0s 1ms/step - loss: 0.0502 - accuracy: 0.9923 - val_loss: 0.0531 - val_accuracy: 0.9962\n",
            "Epoch 11/20\n",
            "260/260 [==============================] - 0s 1ms/step - loss: 0.0488 - accuracy: 0.9930 - val_loss: 0.0524 - val_accuracy: 0.9962\n",
            "Epoch 12/20\n",
            "260/260 [==============================] - 0s 1ms/step - loss: 0.0473 - accuracy: 0.9925 - val_loss: 0.0608 - val_accuracy: 0.9904\n",
            "Epoch 13/20\n",
            "260/260 [==============================] - 0s 1ms/step - loss: 0.0568 - accuracy: 0.9906 - val_loss: 0.0529 - val_accuracy: 0.9942\n",
            "Epoch 14/20\n",
            "260/260 [==============================] - 0s 1ms/step - loss: 0.0478 - accuracy: 0.9930 - val_loss: 0.0518 - val_accuracy: 0.9952\n",
            "Epoch 15/20\n",
            "260/260 [==============================] - 0s 1ms/step - loss: 0.0462 - accuracy: 0.9937 - val_loss: 0.0514 - val_accuracy: 0.9952\n",
            "Epoch 16/20\n",
            "260/260 [==============================] - 0s 1ms/step - loss: 0.0429 - accuracy: 0.9937 - val_loss: 0.0528 - val_accuracy: 0.9952\n",
            "Epoch 17/20\n",
            "260/260 [==============================] - 0s 1ms/step - loss: 0.0384 - accuracy: 0.9949 - val_loss: 0.0510 - val_accuracy: 0.9952\n",
            "Epoch 18/20\n",
            "260/260 [==============================] - 0s 1ms/step - loss: 0.0375 - accuracy: 0.9952 - val_loss: 0.0509 - val_accuracy: 0.9952\n",
            "Epoch 19/20\n",
            "260/260 [==============================] - 0s 1ms/step - loss: 0.0369 - accuracy: 0.9952 - val_loss: 0.0505 - val_accuracy: 0.9952\n",
            "Epoch 20/20\n",
            "260/260 [==============================] - 0s 1ms/step - loss: 0.0364 - accuracy: 0.9954 - val_loss: 0.0503 - val_accuracy: 0.9952\n",
            "Postignuta točnost na kraju treniranja: 0.9954293966293335\n",
            "Vrijednost funkcije gubitka na kraju treniranja: 0.0364384651184082\n"
          ]
        }
      ],
      "source": [
        "import pandas as pd\n",
        "import matplotlib.pyplot as plt\n",
        "from sklearn.model_selection import train_test_split\n",
        "from sklearn.preprocessing import StandardScaler\n",
        "from keras import models\n",
        "from keras import layers\n",
        "\n",
        "#Ucitavanje podataka iz CSV datoteka\n",
        "white = pd.read_csv('winequality-white.csv', sep=';')\n",
        "red = pd.read_csv('winequality-red.csv', sep=';')\n",
        "\n",
        "#Dodavanje nove kolone \"label\" sa vrijednostima 0 za bijelo vino i 1 za crno vino\n",
        "red['label'] = 1\n",
        "white['label']= 0\n",
        "\n",
        "#Spajanje objekata\n",
        "wines = pd.concat([red, white], ignore_index=True)\n",
        "\n",
        "#print(wines.describe())\n",
        "\n",
        "#wines.hist(bins=10, figsize=(12,8))\n",
        "#plt.tight_layout()\n",
        "#plt.show()\n",
        "\n",
        "scaler = StandardScaler()\n",
        "x=wines.drop('label', axis=1)\n",
        "y=wines['label']\n",
        "x_scaled = scaler.fit_transform(x)\n",
        "\n",
        "x_train, x_test, y_train, y_test = train_test_split (x_scaled,y, test_size=0.2, random_state=42)\n",
        "\n",
        "model2 = models.Sequential()\n",
        "\n",
        "model2.add(layers.Dense(8, activation='relu', input_shape=(12,)))\n",
        "model2.add(layers.Dense(8, activation='relu'))\n",
        "model2.add(layers.Dense(1, activation='relu'))\n",
        "\n",
        "model2.compile(optimizer='adam', loss='binary_crossentropy', metrics=['accuracy'])\n",
        "\n",
        "history = model2.fit(x_train, y_train, epochs=20, batch_size=16, validation_split=0.2)\n",
        "\n",
        "accuracy = history.history['accuracy'][-1]\n",
        "loss = history.history['loss'][-1]\n",
        "\n",
        "print(\"Postignuta točnost na kraju treniranja:\", accuracy)\n",
        "print(\"Vrijednost funkcije gubitka na kraju treniranja:\", loss)\n",
        "\n",
        "\n",
        "\n",
        "\n",
        "\n",
        "\n"
      ]
    },
    {
      "cell_type": "code",
      "source": [],
      "metadata": {
        "id": "bh8k7dNRTtEI"
      },
      "execution_count": null,
      "outputs": []
    }
  ]
}